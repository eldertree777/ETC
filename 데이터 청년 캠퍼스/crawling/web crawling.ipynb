{
 "cells": [
  {
   "cell_type": "code",
   "execution_count": 2,
   "id": "f995c133",
   "metadata": {},
   "outputs": [
    {
     "data": {
      "text/plain": [
       "'C:\\\\Users\\\\elder\\\\데이터 청년 캠퍼스\\\\2Week  visualize sql\\\\crawling'"
      ]
     },
     "execution_count": 2,
     "metadata": {},
     "output_type": "execute_result"
    }
   ],
   "source": [
    "import os\n",
    "os.getcwd()"
   ]
  },
  {
   "cell_type": "code",
   "execution_count": 3,
   "id": "00bbc7dc",
   "metadata": {},
   "outputs": [],
   "source": [
    "from selenium import webdriver"
   ]
  },
  {
   "cell_type": "code",
   "execution_count": 9,
   "id": "fde3dec0",
   "metadata": {},
   "outputs": [],
   "source": [
    "#크롬브라우저 열기\n",
    "driver = webdriver.Chrome('chromedriver_win32/chromedriver.exe')\n",
    "driver.get('https://www.instagram.com/')"
   ]
  },
  {
   "cell_type": "code",
   "execution_count": 7,
   "id": "8aa6ab3a",
   "metadata": {},
   "outputs": [],
   "source": [
    "# 브라우저 닫기\n",
    "driver.close()"
   ]
  },
  {
   "cell_type": "code",
   "execution_count": 11,
   "id": "35123fce",
   "metadata": {},
   "outputs": [],
   "source": [
    "from selenium import webdriver\n",
    "from selenium.webdriver.support.ui import WebDriverWait\n",
    "from selenium.webdriver.support import expected_conditions as EC\n",
    "from selenium.webdriver.common.by import By\n",
    "from bs4 import BeautifulSoup\n",
    "import time\n",
    "import re\n",
    "\n",
    "# 크롬 브라우저 열기\n",
    "driver =webdriver.Chrome('chromedriver_win32/chromedriver.exe')\n",
    "driver.get('http://www.instagram.com')\n",
    "\n",
    "#-----------------------------------------------------------------------\n",
    "# 검색어 조건에 따른 url 생성\n",
    "def insta_searching(word):\n",
    "    url = \"https://www.instagram.com/explore/tags/\" + str(word)\n",
    "    return url\n",
    "\n",
    "word = '거북목교정'\n",
    "url = insta_searching(word)\n",
    "driver.get(url)\n"
   ]
  },
  {
   "cell_type": "code",
   "execution_count": 33,
   "id": "9a8e71b9",
   "metadata": {},
   "outputs": [],
   "source": [
    "# 크롬 브라우저 열기\n",
    "driver =webdriver.Chrome('chromedriver_win32/chromedriver.exe')\n",
    "driver.get('http://www.instagram.com')\n",
    "p_tag = WebDriverWait(driver,timeout=5).until(EC.presence_of_element_located\n",
    "((By.TAG_NAME, \"p\")))\n",
    "\n",
    "time.sleep(3)\n",
    "\n",
    "# 인스타그램 로그인을 위한 계정정보\n",
    "email = 'eldertree7776'\n",
    "input_id = driver.find_elements_by_css_selector('input._2hvTZ.pexuQ.zyHYP')[0]\n",
    "input_id.clear()\n",
    "input_id.send_keys(email)\n",
    "\n",
    "password = 'justghkdwp!2'\n",
    "input_pw=driver.find_elements_by_css_selector('input._2hvTZ.pexuQ.zyHYP')[1]\n",
    "input_pw.clear()\n",
    "input_pw.send_keys(password)\n",
    "input_pw.submit()\n",
    "\n",
    "time.sleep(5)\n",
    "\n",
    "# 정보 나중에 저장하기 클릭하고 넘어가기\n",
    "driver.find_element_by_css_selector('button.sqdOP.yWX7d.y3zKF').click()\n",
    "time.sleep(3)\n",
    "\n",
    "# 설정 나중에하기 클릭하고 넘어가기\n",
    "# button sqdOP yWX7d    y3zKF     .  으로 연결하기\n",
    "driver.find_element_by_css_selector('button.aOOlW.HoLwm').click()\n",
    "time.sleep(3)\n",
    "\n",
    "#---------------------------------------------------------------\n",
    "# 게시물 검색\n",
    "def insta_searching(word):\n",
    "    url = \"https://www.instagram.com/explore/tags/\" + str(word)\n",
    "    return url\n",
    "\n",
    "word = '거북목교정'\n",
    "url = insta_searching(word)\n",
    "driver.get(url)"
   ]
  },
  {
   "cell_type": "code",
   "execution_count": 31,
   "id": "292e7cec",
   "metadata": {},
   "outputs": [],
   "source": [
    "# 첫번째 게시물 열기\n",
    "def click_first(driver):\n",
    "    first = driver.find_element_by_css_selector('#react-root > section > main > article > div:nth-child(3) > div > div:nth-child(1) > div:nth-child(1) > a > div.eLAPa > div._9AhH0')\n",
    "    first.click()\n",
    "    time.sleep(7)\n",
    "                                                \n",
    "click_first(driver)\n"
   ]
  },
  {
   "cell_type": "code",
   "execution_count": 35,
   "id": "e627b025",
   "metadata": {},
   "outputs": [],
   "source": [
    "# 첫번째 게시물 열기\n",
    "def click_first(driver):\n",
    "    first = driver.find_element_by_css_selector('div._9AhH0')\n",
    "    first.click()\n",
    "    time.sleep(7)\n",
    "    \n",
    "click_first(driver)"
   ]
  },
  {
   "cell_type": "code",
   "execution_count": 38,
   "id": "40c326e9",
   "metadata": {},
   "outputs": [
    {
     "name": "stdout",
     "output_type": "stream",
     "text": [
      "['#1234', '#거북목교정']\n",
      " 1234 거북목교정\n"
     ]
    },
    {
     "data": {
      "text/plain": [
       "['1234', '거북목교정']"
      ]
     },
     "execution_count": 38,
     "metadata": {},
     "output_type": "execute_result"
    }
   ],
   "source": [
    "# 정규표현식 : findall : 매칭되는 모든 문자열을 리스트로 돌려준다.\n",
    "\n",
    "a = ['a','#1234','#거북목교정','sns','135','123']\n",
    "\n",
    "import re\n",
    "\n",
    "b = re.findall('#[A-Za-z0-9가-힣]+',str(a))\n",
    "# + 뒤글자까지 가져옴\n",
    "\n",
    "print(b)\n",
    "\n",
    "c= ''.join(b).replace(\"#\",\" \")\n",
    "\n",
    "print(c)\n",
    "\n",
    "c.split()"
   ]
  },
  {
   "cell_type": "code",
   "execution_count": 39,
   "id": "3f551773",
   "metadata": {},
   "outputs": [
    {
     "data": {
      "text/plain": [
       "['다들 지금 앉아계신분들!!!!!혹은 앉아 있을 예정인분들!!!오늘 틈새운동 가시죠🥰.요즘 약간 겨울보단 봄이 올것겉은 그런 날씨그럼에도 불구하고 온몸은 뻐근쓰😳🥱잠깐의 자세 바꿈으로 근육을 잡아주고 불필요하게 버티던 근육들을 이완해주므로써 몸이 가벼워 질 수 있을거에요!!오늘의 중요 포인트는옆면에서 보셨을때!!!골반-어깨-귀 나란히가 포인트!거기서 좀 더 집중해보면상체 기울기가 힙끝 (좌골결절) 의자에 닿아 있는 위치로 몸을 나란히 해주기만 해도!!코어힘이 느껴질거에요앉았을때 복부힘!!!!!찾는 방법입니다!!!!!.오늘 역시나 세차해서 그런지또 비가 오네요😂요런날 괜히 몸이 더 찌뿌등 할텐데!!!!오늘 요 운동으로 풀어지면 좋겠어요🙏🏻..#내몸에핏을더하다#여리나핏#밸런사이클#함께해요바디플러스핏',\n",
       " '2021-01-26',\n",
       " '바디플러스핏',\n",
       " ['내몸에핏을더하다', '여리나핏', '밸런사이클', '함께해요바디플러스핏']]"
      ]
     },
     "execution_count": 39,
     "metadata": {},
     "output_type": "execute_result"
    }
   ],
   "source": [
    "import re\n",
    "instagram_tags =[]\n",
    "def get_content(driver):\n",
    "    \n",
    "    # 1. 현재 페이지의 HTML 정보 가져오기\n",
    "    html = driver.page_source\n",
    "    soup = BeautifulSoup(html, 'lxml')\n",
    "    \n",
    "    # 2. 본문내용\n",
    "    try:\n",
    "        content = soup.select('div.C4VMK > span')[0].text\n",
    "    except:\n",
    "        content = ''\n",
    "        \n",
    "    # 3. 본문 내용에서 해시태그 가져오기(정규표현식 활용)\n",
    "    tags = re.findall('#[A-Za-z0-9가-힣]+', content)\n",
    "    tag = ''.join(tags).replace(\"#\",\" \") # \"#\" 제거\n",
    "    tag_data = tag.split()\n",
    "    \n",
    "    for tag_one in tag_data:\n",
    "        instagram_tags.append(tag_one)\n",
    "        \n",
    "    # content 변수의 본문 내용 중 #으로 시작하며, #뒤에 연속된 문자(공백이나 #, \\ 기호가 아닌 경우)를 모두 찾아 tags 변수에 저장\n",
    "    \n",
    "    # 4. 작성 일자 가져오기\n",
    "    try:\n",
    "        #앞에서부터 10자리 글자\n",
    "        date = soup.select('time._1o9PC.Nzb55')[0]['datetime'][:10]       \n",
    "    except:\n",
    "        date = ''\n",
    "        \n",
    "    # 5. 위치 정보 가져오기\n",
    "    try:\n",
    "        place = soup.select('div.JF9hh')[0].text\n",
    "    except:\n",
    "        place = ''\n",
    "    \n",
    "    # 6. 수집한 정보 저장하기\n",
    "    data = [content, date, place, tag_data]\n",
    "    return data\n",
    "\n",
    "get_content(driver)"
   ]
  },
  {
   "cell_type": "code",
   "execution_count": 41,
   "id": "86a8b1fd",
   "metadata": {},
   "outputs": [],
   "source": [
    "#다음페이지 넘어가기\n",
    "\n",
    "def next_page(driver):\n",
    "    # > 버튼 요소 코드 가져오기 \n",
    "    next_page = driver.find_element_by_css_selector('body > div._2dDPU.CkGkG > div.EfHg9 > div > div > a._65Bje.coreSpriteRightPaginationArrow')\n",
    "    next_page.click()\n",
    "    time.sleep(7)\n",
    "\n",
    "next_page(driver)"
   ]
  },
  {
   "cell_type": "code",
   "execution_count": 42,
   "id": "db07d61e",
   "metadata": {},
   "outputs": [],
   "source": [
    "word = \"클라이밍\"\n",
    "url = insta_searching(word)\n",
    "\n",
    "# 검색페이지 접속\n",
    "driver.implicitly_wait(9)\n",
    "driver.get(url)\n",
    "time.sleep(9)\n",
    "\n",
    "# 첫 번째 게시글 열기\n",
    "click_first(driver)\n",
    "\n",
    "#크롤링 결과를담을 리스트 생성\n",
    "result1 = [ ]\n",
    "\n",
    "# 여러 게시글 수집하기\n",
    "target = 5 # 크롤링할 게시글 수\n",
    "for i in range(target):\n",
    "    # 게시글 수집에 오류 발생시 7초 대기후, 다음 게시글로 넘어가도록 예외처리 구문 활용\n",
    "    try:\n",
    "        data = get_content(driver) # 게시글 정보 가져오기\n",
    "        result1.append(data)\n",
    "        next_page(driver)\n",
    "    except:\n",
    "        time.sleep(7)\n",
    "        next_page(driver)"
   ]
  },
  {
   "cell_type": "code",
   "execution_count": 43,
   "id": "1aaaea19",
   "metadata": {
    "collapsed": true
   },
   "outputs": [
    {
     "data": {
      "text/plain": [
       "[['프로즐클러 🐷 우리집 볼더링 🐷 오늘도 이것저것 많이 했다 루트명 : S.O.S 난이도 : V1 오늘은 우리집을 개척해보았는데 등반의 흔적이 없었고 돌부스러기가 많이 떨어지는 볼더다 우리집 외벽도 다 저런 벽돌로 되어있어 하이볼도 개척도 가능하다 6~7m 정도? 물론 매트도 패드도 없다 복층거실에 전등을 켜두면 야볼도 가능하다 지구력, 찍볼 다 가능하다 바로 옆에 부엌, 냉장고, 음식 다 있고 베란다 남은 공간에서 고기 굽굽도 가능하다 아무나 오고 싶은 사람 DM p.s 나 좀 해방시켜줘😇 7/10 토, 1차 마곡 뉴세팅 -> 2차 설대 뉴세팅 + 텐션7/11 일, 하루종일 설대 텐션7/12 월, 오전반 양재 킬터 + 트레이닝   ➡️ #우리집 ⬅️#취미 #클라이밍 #볼더링 #꿀잼 #운동 #트레이닝 #운동스타그램 #일상 #홈트레이닝 #홈스타그램',\n",
       "  '2021-07-05',\n",
       "  '남양주 우리집',\n",
       "  ['우리집',\n",
       "   '취미',\n",
       "   '클라이밍',\n",
       "   '볼더링',\n",
       "   '꿀잼',\n",
       "   '운동',\n",
       "   '트레이닝',\n",
       "   '운동스타그램',\n",
       "   '일상',\n",
       "   '홈트레이닝',\n",
       "   '홈스타그램']],\n",
       " ['Cave 벽 😈😈 두개 , 첫 핑크는 뒷부분이 힘들었는데, @allezjain 선수 베타 보고 했당😌 (🤳🏻 @misssuk7 🙋🏻\\u200d♀️) 쑤기의 브러슁은 언제나 완등을 부르지. 😉',\n",
       "  '2021-07-05',\n",
       "  '더클라임 양재점 - Theclimb Yangjae',\n",
       "  []],\n",
       " ['마곡의 밤.백년 만에 반바지 입고 클밍하지만 퇴근 후 마곡은 언제나 절망괜히 ‘곡’ 이 아닌가보다🟣🔴🔴...#클라이밍 #볼더링 #운동 #취미 #더클라임 #더클라임마곡 #lv보라 #lv빨강 #재밌다 #나약한나 #퇴근운동',\n",
       "  '2021-07-06',\n",
       "  '더클라임 마곡점 - Theclimb Magok',\n",
       "  ['클라이밍',\n",
       "   '볼더링',\n",
       "   '운동',\n",
       "   '취미',\n",
       "   '더클라임',\n",
       "   '더클라임마곡',\n",
       "   'lv보라',\n",
       "   'lv빨강',\n",
       "   '재밌다',\n",
       "   '나약한나',\n",
       "   '퇴근운동']],\n",
       " ['영등포 뉴세팅 미리보기 갈색2 회색3에어컨 틀어도 너무 덥다😇금요일부터 재미있게 즐겨주세요🤗#알레클라임 #알레클라임영등포 #알레클라이밍 #알레클라이밍영등포 #영등포 #영등포시장 #클라이밍 #볼더링 #암벽등반 #실내암벽 #운동 #취미 #climbing #bouldering #하이볼크루',\n",
       "  '2021-07-07',\n",
       "  '알레클라이밍',\n",
       "  ['알레클라임',\n",
       "   '알레클라임영등포',\n",
       "   '알레클라이밍',\n",
       "   '알레클라이밍영등포',\n",
       "   '영등포',\n",
       "   '영등포시장',\n",
       "   '클라이밍',\n",
       "   '볼더링',\n",
       "   '암벽등반',\n",
       "   '실내암벽',\n",
       "   '운동',\n",
       "   '취미',\n",
       "   'climbing',\n",
       "   'bouldering',\n",
       "   '하이볼크루']],\n",
       " ['휴무날 새벽 혼클혼자하면 힘ㅁ이 안나유우우우코디는 다음에 혼내준다. 👊🏻#더클라임일산 #클라이밍',\n",
       "  '2021-07-06',\n",
       "  '더클라임 일산점-Theclimb ILSAN',\n",
       "  ['더클라임일산', '클라이밍']]]"
      ]
     },
     "execution_count": 43,
     "metadata": {},
     "output_type": "execute_result"
    }
   ],
   "source": [
    "result1"
   ]
  },
  {
   "cell_type": "code",
   "execution_count": 47,
   "id": "bc6626e9",
   "metadata": {},
   "outputs": [
    {
     "ename": "UnicodeEncodeError",
     "evalue": "'cp949' codec can't encode character '\\U0001f437' in position 7: illegal multibyte sequence",
     "output_type": "error",
     "traceback": [
      "\u001b[1;31m---------------------------------------------------------------------------\u001b[0m",
      "\u001b[1;31mUnicodeEncodeError\u001b[0m                        Traceback (most recent call last)",
      "\u001b[1;32m<ipython-input-47-c066bf4c0239>\u001b[0m in \u001b[0;36m<module>\u001b[1;34m\u001b[0m\n\u001b[0;32m     11\u001b[0m \u001b[1;31m# 파일 저장하기\u001b[0m\u001b[1;33m\u001b[0m\u001b[1;33m\u001b[0m\u001b[1;33m\u001b[0m\u001b[0m\n\u001b[0;32m     12\u001b[0m \u001b[1;31m# df.to_csv(\"데이터수집.csv\", header = True, index = False, encoding='utf-8-sig')\u001b[0m\u001b[1;33m\u001b[0m\u001b[1;33m\u001b[0m\u001b[1;33m\u001b[0m\u001b[0m\n\u001b[1;32m---> 13\u001b[1;33m \u001b[0mdf\u001b[0m\u001b[1;33m.\u001b[0m\u001b[0mto_csv\u001b[0m\u001b[1;33m(\u001b[0m\u001b[1;34m\"데이터수집cp.csv\"\u001b[0m\u001b[1;33m,\u001b[0m \u001b[0mheader\u001b[0m \u001b[1;33m=\u001b[0m \u001b[1;32mTrue\u001b[0m\u001b[1;33m,\u001b[0m \u001b[0mindex\u001b[0m \u001b[1;33m=\u001b[0m \u001b[1;32mFalse\u001b[0m\u001b[1;33m,\u001b[0m \u001b[0mencoding\u001b[0m\u001b[1;33m=\u001b[0m\u001b[1;34m'cp949'\u001b[0m\u001b[1;33m)\u001b[0m\u001b[1;33m\u001b[0m\u001b[1;33m\u001b[0m\u001b[0m\n\u001b[0m",
      "\u001b[1;32mC:\\ProgramData\\Anaconda3\\lib\\site-packages\\pandas\\core\\generic.py\u001b[0m in \u001b[0;36mto_csv\u001b[1;34m(self, path_or_buf, sep, na_rep, float_format, columns, header, index, index_label, mode, encoding, compression, quoting, quotechar, line_terminator, chunksize, date_format, doublequote, escapechar, decimal, errors, storage_options)\u001b[0m\n\u001b[0;32m   3385\u001b[0m         )\n\u001b[0;32m   3386\u001b[0m \u001b[1;33m\u001b[0m\u001b[0m\n\u001b[1;32m-> 3387\u001b[1;33m         return DataFrameRenderer(formatter).to_csv(\n\u001b[0m\u001b[0;32m   3388\u001b[0m             \u001b[0mpath_or_buf\u001b[0m\u001b[1;33m,\u001b[0m\u001b[1;33m\u001b[0m\u001b[1;33m\u001b[0m\u001b[0m\n\u001b[0;32m   3389\u001b[0m             \u001b[0mline_terminator\u001b[0m\u001b[1;33m=\u001b[0m\u001b[0mline_terminator\u001b[0m\u001b[1;33m,\u001b[0m\u001b[1;33m\u001b[0m\u001b[1;33m\u001b[0m\u001b[0m\n",
      "\u001b[1;32mC:\\ProgramData\\Anaconda3\\lib\\site-packages\\pandas\\io\\formats\\format.py\u001b[0m in \u001b[0;36mto_csv\u001b[1;34m(self, path_or_buf, encoding, sep, columns, index_label, mode, compression, quoting, quotechar, line_terminator, chunksize, date_format, doublequote, escapechar, errors, storage_options)\u001b[0m\n\u001b[0;32m   1081\u001b[0m             \u001b[0mformatter\u001b[0m\u001b[1;33m=\u001b[0m\u001b[0mself\u001b[0m\u001b[1;33m.\u001b[0m\u001b[0mfmt\u001b[0m\u001b[1;33m,\u001b[0m\u001b[1;33m\u001b[0m\u001b[1;33m\u001b[0m\u001b[0m\n\u001b[0;32m   1082\u001b[0m         )\n\u001b[1;32m-> 1083\u001b[1;33m         \u001b[0mcsv_formatter\u001b[0m\u001b[1;33m.\u001b[0m\u001b[0msave\u001b[0m\u001b[1;33m(\u001b[0m\u001b[1;33m)\u001b[0m\u001b[1;33m\u001b[0m\u001b[1;33m\u001b[0m\u001b[0m\n\u001b[0m\u001b[0;32m   1084\u001b[0m \u001b[1;33m\u001b[0m\u001b[0m\n\u001b[0;32m   1085\u001b[0m         \u001b[1;32mif\u001b[0m \u001b[0mcreated_buffer\u001b[0m\u001b[1;33m:\u001b[0m\u001b[1;33m\u001b[0m\u001b[1;33m\u001b[0m\u001b[0m\n",
      "\u001b[1;32mC:\\ProgramData\\Anaconda3\\lib\\site-packages\\pandas\\io\\formats\\csvs.py\u001b[0m in \u001b[0;36msave\u001b[1;34m(self)\u001b[0m\n\u001b[0;32m    246\u001b[0m             )\n\u001b[0;32m    247\u001b[0m \u001b[1;33m\u001b[0m\u001b[0m\n\u001b[1;32m--> 248\u001b[1;33m             \u001b[0mself\u001b[0m\u001b[1;33m.\u001b[0m\u001b[0m_save\u001b[0m\u001b[1;33m(\u001b[0m\u001b[1;33m)\u001b[0m\u001b[1;33m\u001b[0m\u001b[1;33m\u001b[0m\u001b[0m\n\u001b[0m\u001b[0;32m    249\u001b[0m \u001b[1;33m\u001b[0m\u001b[0m\n\u001b[0;32m    250\u001b[0m     \u001b[1;32mdef\u001b[0m \u001b[0m_save\u001b[0m\u001b[1;33m(\u001b[0m\u001b[0mself\u001b[0m\u001b[1;33m)\u001b[0m \u001b[1;33m->\u001b[0m \u001b[1;32mNone\u001b[0m\u001b[1;33m:\u001b[0m\u001b[1;33m\u001b[0m\u001b[1;33m\u001b[0m\u001b[0m\n",
      "\u001b[1;32mC:\\ProgramData\\Anaconda3\\lib\\site-packages\\pandas\\io\\formats\\csvs.py\u001b[0m in \u001b[0;36m_save\u001b[1;34m(self)\u001b[0m\n\u001b[0;32m    251\u001b[0m         \u001b[1;32mif\u001b[0m \u001b[0mself\u001b[0m\u001b[1;33m.\u001b[0m\u001b[0m_need_to_save_header\u001b[0m\u001b[1;33m:\u001b[0m\u001b[1;33m\u001b[0m\u001b[1;33m\u001b[0m\u001b[0m\n\u001b[0;32m    252\u001b[0m             \u001b[0mself\u001b[0m\u001b[1;33m.\u001b[0m\u001b[0m_save_header\u001b[0m\u001b[1;33m(\u001b[0m\u001b[1;33m)\u001b[0m\u001b[1;33m\u001b[0m\u001b[1;33m\u001b[0m\u001b[0m\n\u001b[1;32m--> 253\u001b[1;33m         \u001b[0mself\u001b[0m\u001b[1;33m.\u001b[0m\u001b[0m_save_body\u001b[0m\u001b[1;33m(\u001b[0m\u001b[1;33m)\u001b[0m\u001b[1;33m\u001b[0m\u001b[1;33m\u001b[0m\u001b[0m\n\u001b[0m\u001b[0;32m    254\u001b[0m \u001b[1;33m\u001b[0m\u001b[0m\n\u001b[0;32m    255\u001b[0m     \u001b[1;32mdef\u001b[0m \u001b[0m_save_header\u001b[0m\u001b[1;33m(\u001b[0m\u001b[0mself\u001b[0m\u001b[1;33m)\u001b[0m \u001b[1;33m->\u001b[0m \u001b[1;32mNone\u001b[0m\u001b[1;33m:\u001b[0m\u001b[1;33m\u001b[0m\u001b[1;33m\u001b[0m\u001b[0m\n",
      "\u001b[1;32mC:\\ProgramData\\Anaconda3\\lib\\site-packages\\pandas\\io\\formats\\csvs.py\u001b[0m in \u001b[0;36m_save_body\u001b[1;34m(self)\u001b[0m\n\u001b[0;32m    289\u001b[0m             \u001b[1;32mif\u001b[0m \u001b[0mstart_i\u001b[0m \u001b[1;33m>=\u001b[0m \u001b[0mend_i\u001b[0m\u001b[1;33m:\u001b[0m\u001b[1;33m\u001b[0m\u001b[1;33m\u001b[0m\u001b[0m\n\u001b[0;32m    290\u001b[0m                 \u001b[1;32mbreak\u001b[0m\u001b[1;33m\u001b[0m\u001b[1;33m\u001b[0m\u001b[0m\n\u001b[1;32m--> 291\u001b[1;33m             \u001b[0mself\u001b[0m\u001b[1;33m.\u001b[0m\u001b[0m_save_chunk\u001b[0m\u001b[1;33m(\u001b[0m\u001b[0mstart_i\u001b[0m\u001b[1;33m,\u001b[0m \u001b[0mend_i\u001b[0m\u001b[1;33m)\u001b[0m\u001b[1;33m\u001b[0m\u001b[1;33m\u001b[0m\u001b[0m\n\u001b[0m\u001b[0;32m    292\u001b[0m \u001b[1;33m\u001b[0m\u001b[0m\n\u001b[0;32m    293\u001b[0m     \u001b[1;32mdef\u001b[0m \u001b[0m_save_chunk\u001b[0m\u001b[1;33m(\u001b[0m\u001b[0mself\u001b[0m\u001b[1;33m,\u001b[0m \u001b[0mstart_i\u001b[0m\u001b[1;33m:\u001b[0m \u001b[0mint\u001b[0m\u001b[1;33m,\u001b[0m \u001b[0mend_i\u001b[0m\u001b[1;33m:\u001b[0m \u001b[0mint\u001b[0m\u001b[1;33m)\u001b[0m \u001b[1;33m->\u001b[0m \u001b[1;32mNone\u001b[0m\u001b[1;33m:\u001b[0m\u001b[1;33m\u001b[0m\u001b[1;33m\u001b[0m\u001b[0m\n",
      "\u001b[1;32mC:\\ProgramData\\Anaconda3\\lib\\site-packages\\pandas\\io\\formats\\csvs.py\u001b[0m in \u001b[0;36m_save_chunk\u001b[1;34m(self, start_i, end_i)\u001b[0m\n\u001b[0;32m    300\u001b[0m \u001b[1;33m\u001b[0m\u001b[0m\n\u001b[0;32m    301\u001b[0m         \u001b[0mix\u001b[0m \u001b[1;33m=\u001b[0m \u001b[0mself\u001b[0m\u001b[1;33m.\u001b[0m\u001b[0mdata_index\u001b[0m\u001b[1;33m[\u001b[0m\u001b[0mslicer\u001b[0m\u001b[1;33m]\u001b[0m\u001b[1;33m.\u001b[0m\u001b[0m_format_native_types\u001b[0m\u001b[1;33m(\u001b[0m\u001b[1;33m**\u001b[0m\u001b[0mself\u001b[0m\u001b[1;33m.\u001b[0m\u001b[0m_number_format\u001b[0m\u001b[1;33m)\u001b[0m\u001b[1;33m\u001b[0m\u001b[1;33m\u001b[0m\u001b[0m\n\u001b[1;32m--> 302\u001b[1;33m         \u001b[0mlibwriters\u001b[0m\u001b[1;33m.\u001b[0m\u001b[0mwrite_csv_rows\u001b[0m\u001b[1;33m(\u001b[0m\u001b[0mdata\u001b[0m\u001b[1;33m,\u001b[0m \u001b[0mix\u001b[0m\u001b[1;33m,\u001b[0m \u001b[0mself\u001b[0m\u001b[1;33m.\u001b[0m\u001b[0mnlevels\u001b[0m\u001b[1;33m,\u001b[0m \u001b[0mself\u001b[0m\u001b[1;33m.\u001b[0m\u001b[0mcols\u001b[0m\u001b[1;33m,\u001b[0m \u001b[0mself\u001b[0m\u001b[1;33m.\u001b[0m\u001b[0mwriter\u001b[0m\u001b[1;33m)\u001b[0m\u001b[1;33m\u001b[0m\u001b[1;33m\u001b[0m\u001b[0m\n\u001b[0m",
      "\u001b[1;32mpandas\\_libs\\writers.pyx\u001b[0m in \u001b[0;36mpandas._libs.writers.write_csv_rows\u001b[1;34m()\u001b[0m\n",
      "\u001b[1;31mUnicodeEncodeError\u001b[0m: 'cp949' codec can't encode character '\\U0001f437' in position 7: illegal multibyte sequence"
     ]
    }
   ],
   "source": [
    "import pandas as pd\n",
    "\n",
    "# 크롤링 데이터 중복 처리\n",
    "df = pd.DataFrame([])\n",
    "df = df.append(result1)\n",
    "\n",
    "df.columns = ['본문','시간','위치','해시태그']\n",
    "df.drop_duplicates(subset = ['본문'] , inplace = True) #중복행 제거\n",
    "df=df.reset_index(drop=True)\n",
    "\n",
    "# 파일 저장하기\n",
    "df.to_csv(\"데이터수집.csv\", header = True, index = False, encoding='utf-8-sig')\n",
    "#df.to_csv(\"데이터수집cp.csv\", header = True, index = False, encoding='cp949')"
   ]
  },
  {
   "cell_type": "code",
   "execution_count": null,
   "id": "362c143c",
   "metadata": {},
   "outputs": [],
   "source": []
  }
 ],
 "metadata": {
  "kernelspec": {
   "display_name": "Python 3",
   "language": "python",
   "name": "python3"
  },
  "language_info": {
   "codemirror_mode": {
    "name": "ipython",
    "version": 3
   },
   "file_extension": ".py",
   "mimetype": "text/x-python",
   "name": "python",
   "nbconvert_exporter": "python",
   "pygments_lexer": "ipython3",
   "version": "3.8.10"
  }
 },
 "nbformat": 4,
 "nbformat_minor": 5
}
