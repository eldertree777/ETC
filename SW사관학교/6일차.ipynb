{
 "cells": [
  {
   "cell_type": "code",
   "execution_count": 1,
   "metadata": {},
   "outputs": [],
   "source": [
    "import numpy as np\n",
    "import pandas as pd\n",
    "import matplotlib.pyplot as plt"
   ]
  },
  {
   "cell_type": "code",
   "execution_count": 2,
   "metadata": {},
   "outputs": [],
   "source": [
    "import tensorflow as tf\n",
    "from tensorflow import keras"
   ]
  },
  {
   "cell_type": "code",
   "execution_count": 37,
   "metadata": {},
   "outputs": [
    {
     "data": {
      "text/plain": [
       "((60000, 28, 28), (60000,), (10000, 28, 28), (10000,))"
      ]
     },
     "execution_count": 37,
     "metadata": {},
     "output_type": "execute_result"
    }
   ],
   "source": [
    "(X_train, y_train), (X_test,y_test) =keras.datasets.mnist.load_data()\n",
    "X_train.shape, y_train.shape, X_test.shape, y_test.shape"
   ]
  },
  {
   "cell_type": "code",
   "execution_count": 38,
   "metadata": {},
   "outputs": [
    {
     "data": {
      "text/plain": [
       "(255, 0)"
      ]
     },
     "execution_count": 38,
     "metadata": {},
     "output_type": "execute_result"
    }
   ],
   "source": [
    "X_train.max() , X_train.min()"
   ]
  },
  {
   "cell_type": "code",
   "execution_count": 39,
   "metadata": {},
   "outputs": [
    {
     "data": {
      "text/plain": [
       "<matplotlib.image.AxesImage at 0x28c112bd5f8>"
      ]
     },
     "execution_count": 39,
     "metadata": {},
     "output_type": "execute_result"
    },
    {
     "data": {
      "image/png": "[encoded data removed]",
      "text/plain": [
       "<matplotlib.figure.Figure at 0x28c11277e48>"
      ]
     },
     "metadata": {},
     "output_type": "display_data"
    }
   ],
   "source": [
    "plt.imshow(X_train[0],cmap='gray_r')"
   ]
  },
  {
   "cell_type": "code",
   "execution_count": 40,
   "metadata": {},
   "outputs": [],
   "source": [
    "# 2차원 데이터는 대문자로 자주사용함"
   ]
  },
  {
   "cell_type": "code",
   "execution_count": 41,
   "metadata": {},
   "outputs": [
    {
     "data": {
      "text/plain": [
       "<matplotlib.image.AxesImage at 0x28c11a9f198>"
      ]
     },
     "execution_count": 41,
     "metadata": {},
     "output_type": "execute_result"
    },
    {
     "data": {
      "image/png": "[encoded data removed]",
      "text/plain": [
       "<matplotlib.figure.Figure at 0x28c11281978>"
      ]
     },
     "metadata": {},
     "output_type": "display_data"
    }
   ],
   "source": [
    "plt.imshow(X_train[1])"
   ]
  },
  {
   "cell_type": "code",
   "execution_count": 42,
   "metadata": {},
   "outputs": [
    {
     "data": {
      "text/plain": [
       "array([5, 0, 4, ..., 5, 6, 8], dtype=uint8)"
      ]
     },
     "execution_count": 42,
     "metadata": {},
     "output_type": "execute_result"
    }
   ],
   "source": [
    "y_train"
   ]
  },
  {
   "cell_type": "code",
   "execution_count": 43,
   "metadata": {},
   "outputs": [
    {
     "data": {
      "image/png": "[encoded data removed]",
      "text/plain": [
       "<matplotlib.figure.Figure at 0x28c112935c0>"
      ]
     },
     "metadata": {},
     "output_type": "display_data"
    }
   ],
   "source": [
    "for i in range(10):\n",
    "    plt.subplot(2,5,i+1)\n",
    "    plt.title(y_train[i])\n",
    "    plt.imshow(X_train[i], cmap='gray_r')\n",
    "    plt.axis('off')"
   ]
  },
  {
   "cell_type": "code",
   "execution_count": 44,
   "metadata": {},
   "outputs": [],
   "source": [
    "# 원핫인코딩\n",
    "# 정방 행렬\n",
    "x_train = np.eye(10)[y_train]\n",
    "x_test = np.eye(10)[y_test]"
   ]
  },
  {
   "cell_type": "code",
   "execution_count": 45,
   "metadata": {},
   "outputs": [
    {
     "data": {
      "text/plain": [
       "array([0., 0., 0., 0., 0., 1., 0., 0., 0., 0.])"
      ]
     },
     "execution_count": 45,
     "metadata": {},
     "output_type": "execute_result"
    }
   ],
   "source": [
    "x_train[0]"
   ]
  },
  {
   "cell_type": "code",
   "execution_count": 52,
   "metadata": {},
   "outputs": [],
   "source": [
    "# softmax   출력값 모두 더하면 1\n",
    "from tensorflow.keras.models import Sequential\n",
    "from tensorflow.keras.layers import Dense\n",
    "from tensorflow.keras.optimizers import SGD,RMSprop,Adagrad,Adam"
   ]
  },
  {
   "cell_type": "code",
   "execution_count": 74,
   "metadata": {},
   "outputs": [],
   "source": [
    "(X_train, y_train), (X_test,y_test) = keras.datasets.mnist.load_data()\n",
    "\n",
    "X_train = X_train.reshape(-1,28*28)/255\n",
    "X_test = X_test.reshape(-1,28*28)/255\n",
    "y_train = np.eye(10)[y_train]\n",
    "y_test = np.eye(10)[y_test]"
   ]
  },
  {
   "cell_type": "code",
   "execution_count": 75,
   "metadata": {},
   "outputs": [],
   "source": [
    "model = Sequential()"
   ]
  },
  {
   "cell_type": "code",
   "execution_count": 76,
   "metadata": {},
   "outputs": [],
   "source": [
    "model.add(Dense(10,input_shape=(784,), activation ='softmax'))"
   ]
  },
  {
   "cell_type": "code",
   "execution_count": 77,
   "metadata": {},
   "outputs": [
    {
     "data": {
      "text/plain": [
       "((60000, 784), (60000, 10))"
      ]
     },
     "execution_count": 77,
     "metadata": {},
     "output_type": "execute_result"
    }
   ],
   "source": [
    "X_train.shape,y_train.shape"
   ]
  },
  {
   "cell_type": "code",
   "execution_count": 95,
   "metadata": {},
   "outputs": [
    {
     "name": "stdout",
     "output_type": "stream",
     "text": [
      "Epoch 1/200\n",
      "1875/1875 [==============================] - 2s 1ms/step - loss: 0.3013 - acc: 0.9354\n",
      "Epoch 2/200\n",
      "1875/1875 [==============================] - 2s 1ms/step - loss: 0.3011 - acc: 0.9354\n",
      "Epoch 3/200\n",
      "1875/1875 [==============================] - 2s 1ms/step - loss: 0.3016 - acc: 0.9347\n",
      "Epoch 4/200\n",
      "1875/1875 [==============================] - 2s 1ms/step - loss: 0.3016 - acc: 0.9346\n",
      "Epoch 5/200\n",
      "1875/1875 [==============================] - 2s 1ms/step - loss: 0.3015 - acc: 0.9347\n",
      "Epoch 6/200\n",
      "1875/1875 [==============================] - 2s 1ms/step - loss: 0.3018 - acc: 0.9354\n",
      "Epoch 7/200\n",
      "1875/1875 [==============================] - 2s 1ms/step - loss: 0.3017 - acc: 0.9354\n",
      "Epoch 8/200\n",
      "1875/1875 [==============================] - 2s 1ms/step - loss: 0.3019 - acc: 0.9344\n",
      "Epoch 9/200\n",
      "1875/1875 [==============================] - 2s 1ms/step - loss: 0.3021 - acc: 0.9344\n",
      "Epoch 10/200\n",
      "1875/1875 [==============================] - 2s 1ms/step - loss: 0.3025 - acc: 0.9350\n",
      "Epoch 11/200\n",
      "1875/1875 [==============================] - 2s 1ms/step - loss: 0.3021 - acc: 0.9346\n",
      "Epoch 12/200\n",
      "1875/1875 [==============================] - 2s 1ms/step - loss: 0.3022 - acc: 0.9358\n",
      "Epoch 13/200\n",
      "1875/1875 [==============================] - 2s 1ms/step - loss: 0.3021 - acc: 0.9349\n",
      "Epoch 14/200\n",
      "1875/1875 [==============================] - 2s 1ms/step - loss: 0.3025 - acc: 0.9346A: 0s - loss: 0.3014 - acc: 0.93 - ETA: 0s - loss: 0.3009 -\n",
      "Epoch 15/200\n",
      "1875/1875 [==============================] - 2s 1ms/step - loss: 0.3028 - acc: 0.9348\n",
      "Epoch 16/200\n",
      "1875/1875 [==============================] - 2s 1ms/step - loss: 0.3028 - acc: 0.9352\n",
      "Epoch 17/200\n",
      "1875/1875 [==============================] - 2s 1ms/step - loss: 0.3033 - acc: 0.9352A: 1s \n",
      "Epoch 18/200\n",
      "1875/1875 [==============================] - 2s 1ms/step - loss: 0.3027 - acc: 0.9349\n",
      "Epoch 19/200\n",
      "1875/1875 [==============================] - 2s 1ms/step - loss: 0.3033 - acc: 0.9347A: 2s - los - ETA: 1s - los\n",
      "Epoch 20/200\n",
      "1875/1875 [==============================] - 2s 1ms/step - loss: 0.3032 - acc: 0.9352\n",
      "Epoch 21/200\n",
      "1875/1875 [==============================] - 3s 1ms/step - loss: 0.3032 - acc: 0.9352\n",
      "Epoch 22/200\n",
      "1875/1875 [==============================] - 2s 1ms/step - loss: 0.3034 - acc: 0.9350\n",
      "Epoch 23/200\n",
      "1875/1875 [==============================] - 2s 1ms/step - loss: 0.3033 - acc: 0.9348\n",
      "Epoch 24/200\n",
      "1875/1875 [==============================] - 2s 1ms/step - loss: 0.3029 - acc: 0.9352\n",
      "Epoch 25/200\n",
      "1875/1875 [==============================] - 2s 1ms/step - loss: 0.3035 - acc: 0.9349A:\n",
      "Epoch 26/200\n",
      "1875/1875 [==============================] - 3s 1ms/step - loss: 0.3037 - acc: 0.9352\n",
      "Epoch 27/200\n",
      "1875/1875 [==============================] - 2s 1ms/step - loss: 0.3038 - acc: 0.9354A: 1s - loss: 0.2986  - ETA: 1s - loss: 0.3011  - ETA: 0s - loss: 0.3052 - acc - ETA: 0s - loss: 0.3014 - acc: 0.93\n",
      "Epoch 28/200\n",
      "1875/1875 [==============================] - 2s 1ms/step - loss: 0.3033 - acc: 0.9347\n",
      "Epoch 29/200\n",
      "1875/1875 [==============================] - 3s 1ms/step - loss: 0.3042 - acc: 0.9351\n",
      "Epoch 30/200\n",
      "1875/1875 [==============================] - 2s 1ms/step - loss: 0.3046 - acc: 0.9354\n",
      "Epoch 31/200\n",
      "1875/1875 [==============================] - 2s 1ms/step - loss: 0.3049 - acc: 0.9351\n",
      "Epoch 32/200\n",
      "1875/1875 [==============================] - 2s 1ms/step - loss: 0.3040 - acc: 0.9353\n",
      "Epoch 33/200\n",
      "1875/1875 [==============================] - 2s 1ms/step - loss: 0.3050 - acc: 0.9351\n",
      "Epoch 34/200\n",
      "1875/1875 [==============================] - 2s 1ms/step - loss: 0.3051 - acc: 0.9352\n",
      "Epoch 35/200\n",
      "1875/1875 [==============================] - 2s 1ms/step - loss: 0.3050 - acc: 0.9351\n",
      "Epoch 36/200\n",
      "1875/1875 [==============================] - 3s 1ms/step - loss: 0.3048 - acc: 0.9352\n",
      "Epoch 37/200\n",
      "1875/1875 [==============================] - 2s 1ms/step - loss: 0.3050 - acc: 0.9351\n",
      "Epoch 38/200\n",
      "1875/1875 [==============================] - 3s 1ms/step - loss: 0.3051 - acc: 0.9348\n",
      "Epoch 39/200\n",
      "1875/1875 [==============================] - 2s 1ms/step - loss: 0.3053 - acc: 0.9352\n",
      "Epoch 40/200\n",
      "1875/1875 [==============================] - 2s 1ms/step - loss: 0.3052 - acc: 0.9350A: 0s - loss: 0.3040 - \n",
      "Epoch 41/200\n",
      "1875/1875 [==============================] - 2s 1ms/step - loss: 0.3054 - acc: 0.9351\n",
      "Epoch 42/200\n",
      "1875/1875 [==============================] - 2s 1ms/step - loss: 0.3055 - acc: 0.9355\n",
      "Epoch 43/200\n",
      "1875/1875 [==============================] - 2s 1ms/step - loss: 0.3059 - acc: 0.9352\n",
      "Epoch 44/200\n",
      "1875/1875 [==============================] - 2s 1ms/step - loss: 0.3062 - acc: 0.9354\n",
      "Epoch 45/200\n",
      "1875/1875 [==============================] - 2s 1ms/step - loss: 0.3064 - acc: 0.9359A: 1s - loss: 0.2965 - - ETA: 0s - loss: 0.30\n",
      "Epoch 46/200\n",
      "1875/1875 [==============================] - 2s 1ms/step - loss: 0.3058 - acc: 0.9352\n",
      "Epoch 47/200\n",
      "1875/1875 [==============================] - 2s 1ms/step - loss: 0.3063 - acc: 0.9354\n",
      "Epoch 48/200\n",
      "1875/1875 [==============================] - 2s 1ms/step - loss: 0.3063 - acc: 0.9352\n",
      "Epoch 49/200\n",
      "1875/1875 [==============================] - 2s 1ms/step - loss: 0.3059 - acc: 0.9350\n",
      "Epoch 50/200\n",
      "1875/1875 [==============================] - 2s 1ms/step - loss: 0.3063 - acc: 0.9351\n",
      "Epoch 51/200\n",
      "1875/1875 [==============================] - 2s 1ms/step - loss: 0.3065 - acc: 0.9351\n",
      "Epoch 52/200\n",
      "1875/1875 [==============================] - 3s 2ms/step - loss: 0.3071 - acc: 0.9350\n",
      "Epoch 53/200\n",
      "1875/1875 [==============================] - 3s 1ms/step - loss: 0.3068 - acc: 0.9348A: 1s - l\n",
      "Epoch 54/200\n",
      "1875/1875 [==============================] - 2s 1ms/step - loss: 0.3068 - acc: 0.9348\n",
      "Epoch 55/200\n",
      "1875/1875 [==============================] - 2s 1ms/step - loss: 0.3072 - acc: 0.9354\n",
      "Epoch 56/200\n",
      "1875/1875 [==============================] - 2s 1ms/step - loss: 0.3075 - acc: 0.9348\n",
      "Epoch 57/200\n",
      "1875/1875 [==============================] - 2s 1ms/step - loss: 0.3074 - acc: 0.9351\n",
      "Epoch 58/200\n",
      "1875/1875 [==============================] - 2s 1ms/step - loss: 0.3075 - acc: 0.9351\n",
      "Epoch 59/200\n",
      "1875/1875 [==============================] - 2s 1ms/step - loss: 0.3068 - acc: 0.9349\n",
      "Epoch 60/200\n",
      "1875/1875 [==============================] - 2s 1ms/step - loss: 0.3075 - acc: 0.9354A: 0s - loss: 0.3078 - acc\n",
      "Epoch 61/200\n",
      "1875/1875 [==============================] - 2s 1ms/step - loss: 0.3074 - acc: 0.9360\n",
      "Epoch 62/200\n",
      "1875/1875 [==============================] - 2s 1ms/step - loss: 0.3073 - acc: 0.9352\n",
      "Epoch 63/200\n",
      "1875/1875 [==============================] - 2s 1ms/step - loss: 0.3075 - acc: 0.9354\n",
      "Epoch 64/200\n",
      "1875/1875 [==============================] - 2s 1ms/step - loss: 0.3078 - acc: 0.9353\n",
      "Epoch 65/200\n",
      "1875/1875 [==============================] - 2s 1ms/step - loss: 0.3080 - acc: 0.9357A: 0s - loss: 0.3053 - a\n",
      "Epoch 66/200\n",
      "1875/1875 [==============================] - 2s 1ms/step - loss: 0.3080 - acc: 0.9349\n",
      "Epoch 67/200\n",
      "1875/1875 [==============================] - 2s 1ms/step - loss: 0.3080 - acc: 0.9352\n",
      "Epoch 68/200\n",
      "1875/1875 [==============================] - 2s 1ms/step - loss: 0.3085 - acc: 0.9352\n",
      "Epoch 69/200\n",
      "1875/1875 [==============================] - 2s 1ms/step - loss: 0.3080 - acc: 0.9353\n",
      "Epoch 70/200\n",
      "1875/1875 [==============================] - 2s 1ms/step - loss: 0.3079 - acc: 0.9345\n",
      "Epoch 71/200\n",
      "1875/1875 [==============================] - 2s 1ms/step - loss: 0.3084 - acc: 0.9351A: 0s - loss: 0.3076 - ac\n",
      "Epoch 72/200\n",
      "1875/1875 [==============================] - 3s 1ms/step - loss: 0.3084 - acc: 0.9350\n",
      "Epoch 73/200\n",
      "1875/1875 [==============================] - 2s 1ms/step - loss: 0.3083 - acc: 0.9356A: 0s - loss: 0\n",
      "Epoch 74/200\n",
      "1875/1875 [==============================] - 2s 1ms/step - loss: 0.3089 - acc: 0.9352\n",
      "Epoch 75/200\n",
      "1875/1875 [==============================] - 2s 1ms/step - loss: 0.3084 - acc: 0.9358\n",
      "Epoch 76/200\n",
      "1875/1875 [==============================] - 2s 1ms/step - loss: 0.3089 - acc: 0.9349\n",
      "Epoch 77/200\n",
      "1875/1875 [==============================] - 3s 1ms/step - loss: 0.3090 - acc: 0.9354\n",
      "Epoch 78/200\n",
      "1875/1875 [==============================] - 3s 1ms/step - loss: 0.3086 - acc: 0.9358A: 1s - loss: 0.2874 - - ETA: 0s - loss: 0.3022 - a - ETA: 0s - loss: 0.3083 - acc:\n",
      "Epoch 79/200\n"
     ]
    },
    {
     "name": "stdout",
     "output_type": "stream",
     "text": [
      "1875/1875 [==============================] - 2s 1ms/step - loss: 0.3090 - acc: 0.9359A: 1s\n",
      "Epoch 80/200\n",
      "1875/1875 [==============================] - 2s 1ms/step - loss: 0.3092 - acc: 0.9348 ETA: 0s - loss: 0.3103 - acc: 0.93\n",
      "Epoch 81/200\n",
      "1875/1875 [==============================] - 2s 1ms/step - loss: 0.3090 - acc: 0.9352\n",
      "Epoch 82/200\n",
      "1875/1875 [==============================] - 2s 1ms/step - loss: 0.3097 - acc: 0.9354A: 0s - loss: 0\n",
      "Epoch 83/200\n",
      "1875/1875 [==============================] - 2s 1ms/step - loss: 0.3090 - acc: 0.9353A: 1s - loss: 0.31 - ETA: 0s - loss: 0.3144 - - ETA: 0s - loss: 0.3123 - acc: 0.9\n",
      "Epoch 84/200\n",
      "1875/1875 [==============================] - 2s 1ms/step - loss: 0.3091 - acc: 0.9355A: 0s - loss: 0.313\n",
      "Epoch 85/200\n",
      "1875/1875 [==============================] - 2s 1ms/step - loss: 0.3096 - acc: 0.9356\n",
      "Epoch 86/200\n",
      "1875/1875 [==============================] - 2s 1ms/step - loss: 0.3096 - acc: 0.9350A: 0s - loss: 0.3\n",
      "Epoch 87/200\n",
      "1875/1875 [==============================] - 2s 1ms/step - loss: 0.3100 - acc: 0.9355ETA: 0s - loss: 0.3122 - acc: 0.\n",
      "Epoch 88/200\n",
      "1875/1875 [==============================] - 2s 1ms/step - loss: 0.3091 - acc: 0.9351A: 1s - lo\n",
      "Epoch 89/200\n",
      "1875/1875 [==============================] - 2s 1ms/step - loss: 0.3100 - acc: 0.9359A:  - ETA: 0s - loss: 0.3077 - acc: 0.93\n",
      "Epoch 90/200\n",
      "1875/1875 [==============================] - 3s 1ms/step - loss: 0.3099 - acc: 0.9349\n",
      "Epoch 91/200\n",
      "1875/1875 [==============================] - 3s 1ms/step - loss: 0.3094 - acc: 0.9355A: 0s - loss: 0.3075 - acc:\n",
      "Epoch 92/200\n",
      "1875/1875 [==============================] - 3s 1ms/step - loss: 0.3100 - acc: 0.9349\n",
      "Epoch 93/200\n",
      "1875/1875 [==============================] - 2s 1ms/step - loss: 0.3096 - acc: 0.9355\n",
      "Epoch 94/200\n",
      "1875/1875 [==============================] - 2s 1ms/step - loss: 0.3102 - acc: 0.9353A: 0s - loss: 0.3112\n",
      "Epoch 95/200\n",
      "1875/1875 [==============================] - 2s 1ms/step - loss: 0.3101 - acc: 0.9353\n",
      "Epoch 96/200\n",
      "1875/1875 [==============================] - 2s 1ms/step - loss: 0.3105 - acc: 0.9354\n",
      "Epoch 97/200\n",
      "1875/1875 [==============================] - 2s 1ms/step - loss: 0.3099 - acc: 0.9352A: 2s - loss - ETA: 0s - loss: 0\n",
      "Epoch 98/200\n",
      "1875/1875 [==============================] - 2s 1ms/step - loss: 0.3102 - acc: 0.9355A\n",
      "Epoch 99/200\n",
      "1875/1875 [==============================] - 3s 1ms/step - loss: 0.3108 - acc: 0.9355A: 1s - loss\n",
      "Epoch 100/200\n",
      "1875/1875 [==============================] - 3s 1ms/step - loss: 0.3105 - acc: 0.9352A: 0s - loss: 0.3102 - acc: 0.\n",
      "Epoch 101/200\n",
      "1875/1875 [==============================] - 3s 1ms/step - loss: 0.3106 - acc: 0.9354A: 1s - loss: 0.3140 - acc - ETA: 1s - loss: 0.3138 - acc: 0.93 - ETA: 1s - loss: \n",
      "Epoch 102/200\n",
      "1875/1875 [==============================] - 3s 1ms/step - loss: 0.3108 - acc: 0.9355\n",
      "Epoch 103/200\n",
      "1875/1875 [==============================] - 2s 1ms/step - loss: 0.3109 - acc: 0.9354A:\n",
      "Epoch 104/200\n",
      "1875/1875 [==============================] - 2s 1ms/step - loss: 0.3110 - acc: 0.9352\n",
      "Epoch 105/200\n",
      "1875/1875 [==============================] - 2s 1ms/step - loss: 0.3110 - acc: 0.9356\n",
      "Epoch 106/200\n",
      "1875/1875 [==============================] - 2s 1ms/step - loss: 0.3110 - acc: 0.9350\n",
      "Epoch 107/200\n",
      "1875/1875 [==============================] - 2s 1ms/step - loss: 0.3110 - acc: 0.9352\n",
      "Epoch 108/200\n",
      "1875/1875 [==============================] - 2s 1ms/step - loss: 0.3113 - acc: 0.9351\n",
      "Epoch 109/200\n",
      "1875/1875 [==============================] - 2s 1ms/step - loss: 0.3108 - acc: 0.9353\n",
      "Epoch 110/200\n",
      "1875/1875 [==============================] - 2s 1ms/step - loss: 0.3115 - acc: 0.9354\n",
      "Epoch 111/200\n",
      "1875/1875 [==============================] - 2s 1ms/step - loss: 0.3109 - acc: 0.9357\n",
      "Epoch 112/200\n",
      "1875/1875 [==============================] - 3s 1ms/step - loss: 0.3113 - acc: 0.9355A: 1s  - ETA: 0s - loss: 0.3079 -\n",
      "Epoch 113/200\n",
      "1875/1875 [==============================] - 2s 1ms/step - loss: 0.3116 - acc: 0.9350\n",
      "Epoch 114/200\n",
      "1875/1875 [==============================] - 2s 1ms/step - loss: 0.3115 - acc: 0.9351\n",
      "Epoch 115/200\n",
      "1875/1875 [==============================] - 2s 1ms/step - loss: 0.3118 - acc: 0.9354\n",
      "Epoch 116/200\n",
      "1875/1875 [==============================] - 2s 1ms/step - loss: 0.3115 - acc: 0.9350A: 0s - loss: 0.3108 - acc: 0. - ETA: 0s - loss: 0.3124 - acc: \n",
      "Epoch 117/200\n",
      "1875/1875 [==============================] - 2s 1ms/step - loss: 0.3116 - acc: 0.9356\n",
      "Epoch 118/200\n",
      "1875/1875 [==============================] - 2s 1ms/step - loss: 0.3118 - acc: 0.9352\n",
      "Epoch 119/200\n",
      "1875/1875 [==============================] - 2s 1ms/step - loss: 0.3119 - acc: 0.9351A: 0s - loss: 0.3120 - acc: 0\n",
      "Epoch 120/200\n",
      "1875/1875 [==============================] - 3s 1ms/step - loss: 0.3116 - acc: 0.9352\n",
      "Epoch 121/200\n",
      "1875/1875 [==============================] - 3s 1ms/step - loss: 0.3121 - acc: 0.9356A: 1s - loss: 0.3158 - ETA: 0s - loss: 0.3140 -\n",
      "Epoch 122/200\n",
      "1875/1875 [==============================] - 2s 1ms/step - loss: 0.3122 - acc: 0.9353\n",
      "Epoch 123/200\n",
      "1875/1875 [==============================] - 2s 1ms/step - loss: 0.3124 - acc: 0.9355\n",
      "Epoch 124/200\n",
      "1875/1875 [==============================] - 2s 1ms/step - loss: 0.3124 - acc: 0.9350\n",
      "Epoch 125/200\n",
      "1875/1875 [==============================] - 2s 1ms/step - loss: 0.3121 - acc: 0.9354A: 2s - - ETA: 0s - loss: 0.3209\n",
      "Epoch 126/200\n",
      "1875/1875 [==============================] - 2s 1ms/step - loss: 0.3123 - acc: 0.9350\n",
      "Epoch 127/200\n",
      "1875/1875 [==============================] - 2s 1ms/step - loss: 0.3128 - acc: 0.9347A: 0s - loss: 0.3127 - acc: 0.93\n",
      "Epoch 128/200\n",
      "1875/1875 [==============================] - 2s 1ms/step - loss: 0.3124 - acc: 0.9351\n",
      "Epoch 129/200\n",
      "1875/1875 [==============================] - 2s 1ms/step - loss: 0.3127 - acc: 0.9356A: 0s - loss: 0.3102 - \n",
      "Epoch 130/200\n",
      "1875/1875 [==============================] - 2s 1ms/step - loss: 0.3127 - acc: 0.9349\n",
      "Epoch 131/200\n",
      "1875/1875 [==============================] - 3s 1ms/step - loss: 0.3129 - acc: 0.9356A: 1s - \n",
      "Epoch 132/200\n",
      "1875/1875 [==============================] - 3s 1ms/step - loss: 0.3129 - acc: 0.9350A: 1s - loss: 0.3160 - a - ETA: 0s - loss: 0.31\n",
      "Epoch 133/200\n",
      "1875/1875 [==============================] - 3s 1ms/step - loss: 0.3129 - acc: 0.9355A: 1s - loss: 0.31 - ETA: 0s - loss: 0.3134 - acc: - ETA: 0s - loss: 0.3125 - acc: 0.\n",
      "Epoch 134/200\n",
      "1875/1875 [==============================] - 2s 1ms/step - loss: 0.3135 - acc: 0.9353\n",
      "Epoch 135/200\n",
      "1875/1875 [==============================] - 2s 1ms/step - loss: 0.3131 - acc: 0.9353\n",
      "Epoch 136/200\n",
      "1875/1875 [==============================] - 2s 1ms/step - loss: 0.3127 - acc: 0.9354\n",
      "Epoch 137/200\n",
      "1875/1875 [==============================] - 3s 1ms/step - loss: 0.3136 - acc: 0.9359\n",
      "Epoch 138/200\n",
      "1875/1875 [==============================] - 3s 1ms/step - loss: 0.3134 - acc: 0.9351\n",
      "Epoch 139/200\n",
      "1875/1875 [==============================] - 3s 1ms/step - loss: 0.3132 - acc: 0.9355A: 1s -\n",
      "Epoch 140/200\n",
      "1875/1875 [==============================] - 3s 1ms/step - loss: 0.3133 - acc: 0.9358\n",
      "Epoch 141/200\n",
      "1875/1875 [==============================] - 2s 1ms/step - loss: 0.3135 - acc: 0.9356A: 0s - loss: 0.3115 - acc: 0\n",
      "Epoch 142/200\n",
      "1875/1875 [==============================] - 2s 1ms/step - loss: 0.3133 - acc: 0.9354\n",
      "Epoch 143/200\n",
      "1875/1875 [==============================] - 2s 1ms/step - loss: 0.3129 - acc: 0.9353\n",
      "Epoch 144/200\n",
      "1875/1875 [==============================] - 2s 1ms/step - loss: 0.3135 - acc: 0.9355\n",
      "Epoch 145/200\n",
      "1875/1875 [==============================] - 2s 1ms/step - loss: 0.3133 - acc: 0.9356\n",
      "Epoch 146/200\n",
      "1875/1875 [==============================] - 2s 1ms/step - loss: 0.3136 - acc: 0.9353\n",
      "Epoch 147/200\n",
      "1875/1875 [==============================] - 2s 1ms/step - loss: 0.3138 - acc: 0.9357\n",
      "Epoch 148/200\n",
      "1875/1875 [==============================] - 2s 1ms/step - loss: 0.3138 - acc: 0.9358\n",
      "Epoch 149/200\n",
      "1875/1875 [==============================] - 2s 1ms/step - loss: 0.3141 - acc: 0.9354\n",
      "Epoch 150/200\n",
      "1875/1875 [==============================] - 2s 1ms/step - loss: 0.3140 - acc: 0.9349\n",
      "Epoch 151/200\n",
      "1875/1875 [==============================] - 2s 1ms/step - loss: 0.3140 - acc: 0.9355\n",
      "Epoch 152/200\n"
     ]
    },
    {
     "name": "stdout",
     "output_type": "stream",
     "text": [
      "1875/1875 [==============================] - 2s 1ms/step - loss: 0.3139 - acc: 0.9352\n",
      "Epoch 153/200\n",
      "1875/1875 [==============================] - 2s 1ms/step - loss: 0.3143 - acc: 0.9349\n",
      "Epoch 154/200\n",
      "1875/1875 [==============================] - 2s 1ms/step - loss: 0.3141 - acc: 0.9353\n",
      "Epoch 155/200\n",
      "1875/1875 [==============================] - 2s 1ms/step - loss: 0.3143 - acc: 0.9351A: 1s\n",
      "Epoch 156/200\n",
      "1875/1875 [==============================] - 2s 1ms/step - loss: 0.3147 - acc: 0.9351\n",
      "Epoch 157/200\n",
      "1875/1875 [==============================] - 2s 1ms/step - loss: 0.3147 - acc: 0.9348A: 0s - loss: 0.3082 -\n",
      "Epoch 158/200\n",
      "1875/1875 [==============================] - 2s 1ms/step - loss: 0.3145 - acc: 0.9355A: 0s - loss: 0.3143 - acc: 0.935 - ETA: 0s - loss: 0.3148 - acc: 0.93\n",
      "Epoch 159/200\n",
      "1875/1875 [==============================] - 2s 1ms/step - loss: 0.3147 - acc: 0.9355A: 1s - loss: 0.3085 - acc: 0.9 - ETA\n",
      "Epoch 160/200\n",
      "1875/1875 [==============================] - 2s 1ms/step - loss: 0.3152 - acc: 0.9355\n",
      "Epoch 161/200\n",
      "1875/1875 [==============================] - 2s 1ms/step - loss: 0.3148 - acc: 0.9353\n",
      "Epoch 162/200\n",
      "1875/1875 [==============================] - 2s 1ms/step - loss: 0.3152 - acc: 0.9352A: 0s - loss: 0.3083 - \n",
      "Epoch 163/200\n",
      "1875/1875 [==============================] - 2s 1ms/step - loss: 0.3149 - acc: 0.9356\n",
      "Epoch 164/200\n",
      "1875/1875 [==============================] - 2s 1ms/step - loss: 0.3153 - acc: 0.9354\n",
      "Epoch 165/200\n",
      "1875/1875 [==============================] - 2s 1ms/step - loss: 0.3152 - acc: 0.9358\n",
      "Epoch 166/200\n",
      "1875/1875 [==============================] - 2s 1ms/step - loss: 0.3150 - acc: 0.9352A: 0s - loss: 0.3144 - acc: 0.\n",
      "Epoch 167/200\n",
      "1875/1875 [==============================] - 2s 1ms/step - loss: 0.3154 - acc: 0.9353\n",
      "Epoch 168/200\n",
      "1875/1875 [==============================] - 3s 1ms/step - loss: 0.3152 - acc: 0.9353A: 0s - loss: 0.3150 - acc: 0.93\n",
      "Epoch 169/200\n",
      "1875/1875 [==============================] - 2s 1ms/step - loss: 0.3156 - acc: 0.9355\n",
      "Epoch 170/200\n",
      "1875/1875 [==============================] - 2s 1ms/step - loss: 0.3152 - acc: 0.9353\n",
      "Epoch 171/200\n",
      "1875/1875 [==============================] - 2s 1ms/step - loss: 0.3156 - acc: 0.9352\n",
      "Epoch 172/200\n",
      "1875/1875 [==============================] - 2s 1ms/step - loss: 0.3152 - acc: 0.9352\n",
      "Epoch 173/200\n",
      "1875/1875 [==============================] - 2s 1ms/step - loss: 0.3157 - acc: 0.9359\n",
      "Epoch 174/200\n",
      "1875/1875 [==============================] - 2s 1ms/step - loss: 0.3159 - acc: 0.9359\n",
      "Epoch 175/200\n",
      "1875/1875 [==============================] - 2s 1ms/step - loss: 0.3159 - acc: 0.9349A: 0s - loss: 0.3084 - acc:\n",
      "Epoch 176/200\n",
      "1875/1875 [==============================] - 2s 1ms/step - loss: 0.3158 - acc: 0.9351A: 1s - loss\n",
      "Epoch 177/200\n",
      "1875/1875 [==============================] - 2s 1ms/step - loss: 0.3158 - acc: 0.9347A: 0s - loss: 0.3125 - ac\n",
      "Epoch 178/200\n",
      "1875/1875 [==============================] - 2s 1ms/step - loss: 0.3165 - acc: 0.9352\n",
      "Epoch 179/200\n",
      "1875/1875 [==============================] - 2s 1ms/step - loss: 0.3159 - acc: 0.9351\n",
      "Epoch 180/200\n",
      "1875/1875 [==============================] - 2s 1ms/step - loss: 0.3162 - acc: 0.9356\n",
      "Epoch 181/200\n",
      "1875/1875 [==============================] - 2s 1ms/step - loss: 0.3165 - acc: 0.9348\n",
      "Epoch 182/200\n",
      "1875/1875 [==============================] - 2s 1ms/step - loss: 0.3167 - acc: 0.9355\n",
      "Epoch 183/200\n",
      "1875/1875 [==============================] - 2s 1ms/step - loss: 0.3163 - acc: 0.9351\n",
      "Epoch 184/200\n",
      "1875/1875 [==============================] - 2s 1ms/step - loss: 0.3165 - acc: 0.9355\n",
      "Epoch 185/200\n",
      "1875/1875 [==============================] - 2s 1ms/step - loss: 0.3168 - acc: 0.9355\n",
      "Epoch 186/200\n",
      "1875/1875 [==============================] - 2s 1ms/step - loss: 0.3165 - acc: 0.9345\n",
      "Epoch 187/200\n",
      "1875/1875 [==============================] - 2s 1ms/step - loss: 0.3169 - acc: 0.9354\n",
      "Epoch 188/200\n",
      "1875/1875 [==============================] - 2s 1ms/step - loss: 0.3169 - acc: 0.9357\n",
      "Epoch 189/200\n",
      "1875/1875 [==============================] - 2s 1ms/step - loss: 0.3170 - acc: 0.9361\n",
      "Epoch 190/200\n",
      "1875/1875 [==============================] - 2s 1ms/step - loss: 0.3170 - acc: 0.9351\n",
      "Epoch 191/200\n",
      "1875/1875 [==============================] - 2s 1ms/step - loss: 0.3170 - acc: 0.9355\n",
      "Epoch 192/200\n",
      "1875/1875 [==============================] - 2s 1ms/step - loss: 0.3174 - acc: 0.9352A: 1s - l\n",
      "Epoch 193/200\n",
      "1875/1875 [==============================] - 2s 1ms/step - loss: 0.3172 - acc: 0.9357A: 0s - loss: 0.3177 - acc: \n",
      "Epoch 194/200\n",
      "1875/1875 [==============================] - 2s 1ms/step - loss: 0.3172 - acc: 0.9355\n",
      "Epoch 195/200\n",
      "1875/1875 [==============================] - 2s 1ms/step - loss: 0.3170 - acc: 0.9346A: 0s - loss: 0.3202 - acc: 0.93 - ETA: 0s - loss: 0.3209 - acc:\n",
      "Epoch 196/200\n",
      "1875/1875 [==============================] - 3s 1ms/step - loss: 0.3178 - acc: 0.9359A: 1s - loss:  - ETA: 0s - loss: \n",
      "Epoch 197/200\n",
      "1875/1875 [==============================] - 3s 1ms/step - loss: 0.3173 - acc: 0.9349\n",
      "Epoch 198/200\n",
      "1875/1875 [==============================] - 3s 1ms/step - loss: 0.3173 - acc: 0.9358\n",
      "Epoch 199/200\n",
      "1875/1875 [==============================] - 3s 1ms/step - loss: 0.3174 - acc: 0.9352A: 0s - loss: 0\n",
      "Epoch 200/200\n",
      "1875/1875 [==============================] - 3s 1ms/step - loss: 0.3177 - acc: 0.9358A: 1s - loss: 0.3233  - ETA: 0s - loss: 0.3206 - \n"
     ]
    }
   ],
   "source": [
    "model.compile(loss='categorical_crossentropy', optimizer='rmsprop', metrics=['acc'])\n",
    "history = model.fit(X_train,y_train,epochs=200)"
   ]
  },
  {
   "cell_type": "code",
   "execution_count": 96,
   "metadata": {},
   "outputs": [
    {
     "data": {
      "text/plain": [
       "0.9223"
      ]
     },
     "execution_count": 96,
     "metadata": {},
     "output_type": "execute_result"
    }
   ],
   "source": [
    "pred_y = model.predict(X_test)\n",
    "(pred_y.argmax(axis=1)==y_test.argmax(axis=1)).mean()"
   ]
  },
  {
   "cell_type": "markdown",
   "metadata": {},
   "source": [
    "model.predict(X_train).argmax(axis=1)"
   ]
  },
  {
   "cell_type": "code",
   "execution_count": 97,
   "metadata": {},
   "outputs": [
    {
     "data": {
      "text/plain": [
       "((784, 10), (10,))"
      ]
     },
     "execution_count": 97,
     "metadata": {},
     "output_type": "execute_result"
    }
   ],
   "source": [
    "ms = model.get_weights()\n",
    "ms[0].shape, ms[1].shape"
   ]
  },
  {
   "cell_type": "code",
   "execution_count": 98,
   "metadata": {},
   "outputs": [
    {
     "name": "stdout",
     "output_type": "stream",
     "text": [
      "Model: \"sequential_5\"\n",
      "_________________________________________________________________\n",
      "Layer (type)                 Output Shape              Param #   \n",
      "=================================================================\n",
      "dense_6 (Dense)              (None, 10)                7850      \n",
      "=================================================================\n",
      "Total params: 7,850\n",
      "Trainable params: 7,850\n",
      "Non-trainable params: 0\n",
      "_________________________________________________________________\n"
     ]
    }
   ],
   "source": [
    "model.summary()"
   ]
  },
  {
   "cell_type": "code",
   "execution_count": 99,
   "metadata": {},
   "outputs": [
    {
     "data": {
      "text/plain": [
       "788.5390625"
      ]
     },
     "execution_count": 99,
     "metadata": {},
     "output_type": "execute_result"
    }
   ],
   "source": [
    "#batch_size"
   ]
  },
  {
   "cell_type": "code",
   "execution_count": null,
   "metadata": {},
   "outputs": [],
   "source": []
  }
 ],
 "metadata": {
  "kernelspec": {
   "display_name": "Python 3",
   "language": "python",
   "name": "python3"
  },
  "language_info": {
   "codemirror_mode": {
    "name": "ipython",
    "version": 3
   },
   "file_extension": ".py",
   "mimetype": "text/x-python",
   "name": "python",
   "nbconvert_exporter": "python",
   "pygments_lexer": "ipython3",
   "version": "3.6.4"
  }
 },
 "nbformat": 4,
 "nbformat_minor": 2
}
